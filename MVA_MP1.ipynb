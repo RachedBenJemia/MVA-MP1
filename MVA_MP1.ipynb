{
 "cells": [
  {
   "cell_type": "markdown",
   "metadata": {},
   "source": [
    "# Initial code"
   ]
  },
  {
   "cell_type": "code",
   "execution_count": 2,
   "metadata": {},
   "outputs": [
    {
     "data": {
      "image/png": "[encoded data removed]",
      "text/plain": [
       "<Figure size 432x288 with 1 Axes>"
      ]
     },
     "metadata": {
      "needs_background": "light"
     },
     "output_type": "display_data"
    }
   ],
   "source": [
    "import matplotlib.pyplot as plt\n",
    "#%matplotlib inline\n",
    "import numpy as np\n",
    "\n",
    "# On some implementations of matplotlib, you may need to change this value\n",
    "IMAGE_SIZE = 72\n",
    "\n",
    "def generate_a_drawing(figsize, U, V, noise=0.0):\n",
    "    fig = plt.figure(figsize=(figsize,figsize))\n",
    "    ax = plt.subplot(111)\n",
    "    plt.axis('Off')\n",
    "    ax.set_xlim(0,figsize)\n",
    "    ax.set_ylim(0,figsize)\n",
    "    ax.fill(U, V, \"k\")\n",
    "    fig.canvas.draw()\n",
    "    imdata = np.frombuffer(fig.canvas.tostring_rgb(), dtype=np.uint8)[::3].astype(np.float32)\n",
    "    imdata = imdata + noise * np.random.random(imdata.size)\n",
    "    plt.close(fig)\n",
    "    return imdata\n",
    "\n",
    "def generate_a_rectangle(noise=0.0, free_location=False):\n",
    "    figsize = 1.0    \n",
    "    U = np.zeros(4)\n",
    "    V = np.zeros(4)\n",
    "    if free_location:\n",
    "        corners = np.random.random(4)\n",
    "        top = max(corners[0], corners[1])\n",
    "        bottom = min(corners[0], corners[1])\n",
    "        left = min(corners[2], corners[3])\n",
    "        right = max(corners[2], corners[3])\n",
    "    else:\n",
    "        side = (0.3 + 0.7 * np.random.random()) * figsize\n",
    "        top = figsize/2 + side/2\n",
    "        bottom = figsize/2 - side/2\n",
    "        left = bottom\n",
    "        right = top\n",
    "    U[0] = U[1] = top\n",
    "    U[2] = U[3] = bottom\n",
    "    V[0] = V[3] = left\n",
    "    V[1] = V[2] = right\n",
    "    return generate_a_drawing(figsize, U, V, noise)\n",
    "\n",
    "\n",
    "def generate_a_disk(noise=0.0, free_location=False):\n",
    "    figsize = 1.0\n",
    "    if free_location:\n",
    "        center = np.random.random(2)\n",
    "    else:\n",
    "        center = (figsize/2, figsize/2)\n",
    "    radius = (0.3 + 0.7 * np.random.random()) * figsize/2\n",
    "    N = 50\n",
    "    U = np.zeros(N)\n",
    "    V = np.zeros(N)\n",
    "    i = 0\n",
    "    for t in np.linspace(0, 2*np.pi, N):\n",
    "        U[i] = center[0] + np.cos(t) * radius\n",
    "        V[i] = center[1] + np.sin(t) * radius\n",
    "        i = i + 1\n",
    "    return generate_a_drawing(figsize, U, V, noise)\n",
    "\n",
    "def generate_a_triangle(noise=0.0, free_location=False):\n",
    "    figsize = 1.0\n",
    "    if free_location:\n",
    "        U = np.random.random(3)\n",
    "        V = np.random.random(3)\n",
    "    else:\n",
    "        size = (0.3 + 0.7 * np.random.random())*figsize/2\n",
    "        middle = figsize/2\n",
    "        U = (middle, middle+size, middle-size)\n",
    "        V = (middle+size, middle-size, middle-size)\n",
    "    imdata = generate_a_drawing(figsize, U, V, noise)\n",
    "    return [imdata, [U[0], V[0], U[1], V[1], U[2], V[2]]]\n",
    "\n",
    "\n",
    "im = generate_a_rectangle(10, True)\n",
    "plt.imshow(im.reshape(IMAGE_SIZE,IMAGE_SIZE), cmap='gray')\n",
    "\n",
    "im = generate_a_disk(10)\n",
    "plt.imshow(im.reshape(IMAGE_SIZE,IMAGE_SIZE), cmap='gray')\n",
    "\n",
    "[im, v] = generate_a_triangle(20, False)\n",
    "plt.imshow(im.reshape(IMAGE_SIZE,IMAGE_SIZE), cmap='gray')\n",
    "\n",
    "\n",
    "def generate_dataset_classification(nb_samples, noise=0.0, free_location=False):\n",
    "    # Getting im_size:\n",
    "    im_size = generate_a_rectangle().shape[0]\n",
    "    X = np.zeros([nb_samples,im_size])\n",
    "    Y = np.zeros(nb_samples)\n",
    "    print('Creating data:')\n",
    "    for i in range(nb_samples):\n",
    "        if i % 10 == 0:\n",
    "            print(i)\n",
    "        category = np.random.randint(3)\n",
    "        if category == 0:\n",
    "            X[i] = generate_a_rectangle(noise, free_location)\n",
    "        elif category == 1: \n",
    "            X[i] = generate_a_disk(noise, free_location)\n",
    "        else:\n",
    "            [X[i], V] = generate_a_triangle(noise, free_location)\n",
    "        Y[i] = category\n",
    "    X = (X + noise) / (255 + 2 * noise)\n",
    "    return [X, Y]\n",
    "\n",
    "def generate_test_set_classification():\n",
    "    np.random.seed(42)\n",
    "    [X_test, Y_test] = generate_dataset_classification(300, 20, True)\n",
    "    Y_test = np_utils.to_categorical(Y_test, 3) \n",
    "    return [X_test, Y_test]\n",
    "\n",
    "def generate_dataset_regression(nb_samples, noise=0.0):\n",
    "    # Getting im_size:\n",
    "    im_size = generate_a_triangle()[0].shape[0]\n",
    "    X = np.zeros([nb_samples,im_size])\n",
    "    Y = np.zeros([nb_samples, 6])\n",
    "    print('Creating data:')\n",
    "    for i in range(nb_samples):\n",
    "        if i % 10 == 0:\n",
    "            print(i)\n",
    "        [X[i], Y[i]] = generate_a_triangle(noise, True)\n",
    "    X = (X + noise) / (255 + 2 * noise)\n",
    "    return [X, Y]\n",
    "\n",
    "import matplotlib.patches as patches\n",
    "\n",
    "def visualize_prediction(x, y):\n",
    "    fig, ax = plt.subplots(figsize=(5, 5))\n",
    "    I = x.reshape((IMAGE_SIZE,IMAGE_SIZE))\n",
    "    ax.imshow(I, extent=[-0.15,1.15,-0.15,1.15],cmap='gray')\n",
    "    ax.set_xlim([0,1])\n",
    "    ax.set_ylim([0,1])\n",
    "\n",
    "    xy = y.reshape(3,2)\n",
    "    tri = patches.Polygon(xy, closed=True, fill = False, edgecolor = 'r', linewidth = 5, alpha = 0.5)\n",
    "    ax.add_patch(tri)\n",
    "\n",
    "    plt.show()\n",
    "\n",
    "def generate_test_set_regression():\n",
    "    np.random.seed(42)\n",
    "    [X_test, Y_test] = generate_dataset_regression(300, 20)\n",
    "    return [X_test, Y_test]\n",
    "\n",
    "\n"
   ]
  },
  {
   "cell_type": "markdown",
   "metadata": {},
   "source": [
    "# Simple classifier"
   ]
  },
  {
   "cell_type": "code",
   "execution_count": 3,
   "metadata": {},
   "outputs": [
    {
     "name": "stderr",
     "output_type": "stream",
     "text": [
      "Using TensorFlow backend.\n"
     ]
    },
    {
     "name": "stdout",
     "output_type": "stream",
     "text": [
      "Creating data:\n",
      "0\n",
      "10\n",
      "20\n",
      "30\n",
      "40\n",
      "50\n",
      "60\n",
      "70\n",
      "80\n",
      "90\n",
      "100\n",
      "110\n",
      "120\n",
      "130\n",
      "140\n",
      "150\n",
      "160\n",
      "170\n",
      "180\n",
      "190\n",
      "200\n",
      "210\n",
      "220\n",
      "230\n",
      "240\n",
      "250\n",
      "260\n",
      "270\n",
      "280\n",
      "290\n"
     ]
    }
   ],
   "source": [
    "#Generate training set for the simple classifier\n",
    "from keras.utils import np_utils\n",
    "[X_train, Y_train] = generate_dataset_classification(300, 20)\n",
    "#convert Y_train to be compatible with the model\n",
    "Y_train=np_utils.to_categorical(Y_train)"
   ]
  },
  {
   "cell_type": "code",
   "execution_count": 5,
   "metadata": {},
   "outputs": [
    {
     "name": "stdout",
     "output_type": "stream",
     "text": [
      "Epoch 1/30\n",
      "300/300 [==============================] - 1s 4ms/step - loss: 0.2305 - acc: 0.3800\n",
      "Epoch 2/30\n",
      "300/300 [==============================] - 0s 208us/step - loss: 0.1864 - acc: 0.5733\n",
      "Epoch 3/30\n",
      "300/300 [==============================] - 0s 260us/step - loss: 0.1586 - acc: 0.7033\n",
      "Epoch 4/30\n",
      "300/300 [==============================] - 0s 260us/step - loss: 0.1605 - acc: 0.6467\n",
      "Epoch 5/30\n",
      "300/300 [==============================] - 0s 260us/step - loss: 0.1264 - acc: 0.7833\n",
      "Epoch 6/30\n",
      "300/300 [==============================] - 0s 208us/step - loss: 0.1245 - acc: 0.7867\n",
      "Epoch 7/30\n",
      "300/300 [==============================] - 0s 156us/step - loss: 0.1096 - acc: 0.8233\n",
      "Epoch 8/30\n",
      "300/300 [==============================] - 0s 208us/step - loss: 0.1087 - acc: 0.7933\n",
      "Epoch 9/30\n",
      "300/300 [==============================] - 0s 208us/step - loss: 0.1029 - acc: 0.8067\n",
      "Epoch 10/30\n",
      "300/300 [==============================] - 0s 260us/step - loss: 0.1054 - acc: 0.7967\n",
      "Epoch 11/30\n",
      "300/300 [==============================] - 0s 260us/step - loss: 0.0970 - acc: 0.8100\n",
      "Epoch 12/30\n",
      "300/300 [==============================] - 0s 260us/step - loss: 0.0847 - acc: 0.8567\n",
      "Epoch 13/30\n",
      "300/300 [==============================] - 0s 312us/step - loss: 0.0917 - acc: 0.8433\n",
      "Epoch 14/30\n",
      "300/300 [==============================] - 0s 208us/step - loss: 0.0873 - acc: 0.8400\n",
      "Epoch 15/30\n",
      "300/300 [==============================] - 0s 208us/step - loss: 0.0838 - acc: 0.8667\n",
      "Epoch 16/30\n",
      "300/300 [==============================] - 0s 260us/step - loss: 0.0787 - acc: 0.8800\n",
      "Epoch 17/30\n",
      "300/300 [==============================] - 0s 208us/step - loss: 0.0708 - acc: 0.8933\n",
      "Epoch 18/30\n",
      "300/300 [==============================] - 0s 208us/step - loss: 0.0682 - acc: 0.9367\n",
      "Epoch 19/30\n",
      "300/300 [==============================] - 0s 260us/step - loss: 0.0691 - acc: 0.8933\n",
      "Epoch 20/30\n",
      "300/300 [==============================] - 0s 260us/step - loss: 0.0670 - acc: 0.9200\n",
      "Epoch 21/30\n",
      "300/300 [==============================] - 0s 260us/step - loss: 0.0724 - acc: 0.8967\n",
      "Epoch 22/30\n",
      "300/300 [==============================] - 0s 260us/step - loss: 0.0657 - acc: 0.9100\n",
      "Epoch 23/30\n",
      "300/300 [==============================] - 0s 261us/step - loss: 0.0597 - acc: 0.9233\n",
      "Epoch 24/30\n",
      "300/300 [==============================] - 0s 260us/step - loss: 0.0586 - acc: 0.9367\n",
      "Epoch 25/30\n",
      "300/300 [==============================] - 0s 260us/step - loss: 0.0597 - acc: 0.9267\n",
      "Epoch 26/30\n",
      "300/300 [==============================] - 0s 260us/step - loss: 0.0541 - acc: 0.9533\n",
      "Epoch 27/30\n",
      "300/300 [==============================] - 0s 312us/step - loss: 0.0549 - acc: 0.9433\n",
      "Epoch 28/30\n",
      "300/300 [==============================] - 0s 312us/step - loss: 0.0554 - acc: 0.9500\n",
      "Epoch 29/30\n",
      "300/300 [==============================] - 0s 260us/step - loss: 0.0590 - acc: 0.9300\n",
      "Epoch 30/30\n",
      "300/300 [==============================] - 0s 312us/step - loss: 0.0571 - acc: 0.9233\n"
     ]
    },
    {
     "data": {
      "text/plain": [
       "<keras.callbacks.History at 0x1f0770e2828>"
      ]
     },
     "execution_count": 5,
     "metadata": {},
     "output_type": "execute_result"
    }
   ],
   "source": [
    "# using stochastic gradient descent optimizer\n",
    "from keras.models import Sequential\n",
    "from keras.layers import Dense, Activation\n",
    "from keras.optimizers import SGD\n",
    "nb_neurons = 3\n",
    "SGD_model = Sequential([Dense(nb_neurons, input_dim=X_train.shape[1]),Activation('sigmoid')])\n",
    "sgd = SGD(lr=0.01,decay=1e-6, momentum=0.5,nesterov=True)\n",
    "SGD_model.compile(loss='mean_squared_error',optimizer=sgd,metrics=['accuracy'])\n",
    "SGD_model.fit(X_train, Y_train, epochs=30, batch_size=30)"
   ]
  },
  {
   "cell_type": "code",
   "execution_count": 12,
   "metadata": {},
   "outputs": [
    {
     "data": {
      "text/plain": [
       "array([[0., 1., 0.]], dtype=float32)"
      ]
     },
     "execution_count": 12,
     "metadata": {},
     "output_type": "execute_result"
    }
   ],
   "source": [
    "# testing the SGD  model \n",
    "X_test = generate_a_disk()\n",
    "X_test = X_test.reshape(1, X_test.shape[0])\n",
    "SGD_model.predict(X_test)"
   ]
  },
  {
   "cell_type": "code",
   "execution_count": 29,
   "metadata": {},
   "outputs": [
    {
     "name": "stdout",
     "output_type": "stream",
     "text": [
      "Epoch 1/20\n",
      "300/300 [==============================] - 1s 5ms/step - loss: 0.2749 - acc: 0.4900\n",
      "Epoch 2/20\n",
      "300/300 [==============================] - 0s 312us/step - loss: 0.1825 - acc: 0.6133\n",
      "Epoch 3/20\n",
      "300/300 [==============================] - 0s 313us/step - loss: 0.1283 - acc: 0.8000 0s - loss: 0.1301 - acc: 0.803\n",
      "Epoch 4/20\n",
      "300/300 [==============================] - 0s 312us/step - loss: 0.1024 - acc: 0.8200\n",
      "Epoch 5/20\n",
      "300/300 [==============================] - 0s 365us/step - loss: 0.0928 - acc: 0.8467\n",
      "Epoch 6/20\n",
      "300/300 [==============================] - 0s 260us/step - loss: 0.0812 - acc: 0.8767\n",
      "Epoch 7/20\n",
      "300/300 [==============================] - 0s 312us/step - loss: 0.0782 - acc: 0.8833\n",
      "Epoch 8/20\n",
      "300/300 [==============================] - 0s 365us/step - loss: 0.0665 - acc: 0.9467\n",
      "Epoch 9/20\n",
      "300/300 [==============================] - ETA: 0s - loss: 0.0684 - acc: 0.904 - 0s 260us/step - loss: 0.0664 - acc: 0.9200\n",
      "Epoch 10/20\n",
      "300/300 [==============================] - 0s 312us/step - loss: 0.0606 - acc: 0.9067\n",
      "Epoch 11/20\n",
      "300/300 [==============================] - 0s 260us/step - loss: 0.0574 - acc: 0.9433\n",
      "Epoch 12/20\n",
      "300/300 [==============================] - 0s 260us/step - loss: 0.0512 - acc: 0.9800\n",
      "Epoch 13/20\n",
      "300/300 [==============================] - 0s 312us/step - loss: 0.0489 - acc: 0.9700\n",
      "Epoch 14/20\n",
      "300/300 [==============================] - 0s 365us/step - loss: 0.0531 - acc: 0.9367\n",
      "Epoch 15/20\n",
      "300/300 [==============================] - 0s 365us/step - loss: 0.0488 - acc: 0.9533\n",
      "Epoch 16/20\n",
      "300/300 [==============================] - 0s 365us/step - loss: 0.0409 - acc: 0.9833\n",
      "Epoch 17/20\n",
      "300/300 [==============================] - 0s 312us/step - loss: 0.0416 - acc: 0.9933\n",
      "Epoch 18/20\n",
      "300/300 [==============================] - 0s 260us/step - loss: 0.0389 - acc: 0.9933\n",
      "Epoch 19/20\n",
      "300/300 [==============================] - 0s 260us/step - loss: 0.0372 - acc: 1.0000\n",
      "Epoch 20/20\n",
      "300/300 [==============================] - 0s 417us/step - loss: 0.0357 - acc: 0.9967\n"
     ]
    },
    {
     "data": {
      "text/plain": [
       "<keras.callbacks.History at 0x1f07a984198>"
      ]
     },
     "execution_count": 29,
     "metadata": {},
     "output_type": "execute_result"
    }
   ],
   "source": [
    "#using Adam optimizer\n",
    "from keras.models import Sequential\n",
    "from keras.layers import Dense, Activation\n",
    "from keras.optimizers import Adam\n",
    "\n",
    "nb_neurons = 3\n",
    "Adam_model = Sequential([Dense(nb_neurons, input_dim=X_train.shape[1]),Activation('sigmoid')])\n",
    "Adam_model.add(Activation(\"tanh\"))\n",
    "adam = Adam(lr=0.001, beta_1=0.9, beta_2=0.999, epsilon=None, decay=0.0, amsgrad=False)\n",
    "Adam_model.compile(loss='mean_squared_error',optimizer=adam,metrics=['accuracy'])\n",
    "Adam_model.fit(X_train, Y_train, epochs=20, batch_size=30)\n"
   ]
  },
  {
   "cell_type": "markdown",
   "metadata": {},
   "source": [
    "The Adam optimize does not converge correctly in some cases. There is a propably a local optimum where loss function is 0.13"
   ]
  },
  {
   "cell_type": "code",
   "execution_count": 30,
   "metadata": {},
   "outputs": [
    {
     "data": {
      "text/plain": [
       "array([[0.       , 0.7615942, 0.       ]], dtype=float32)"
      ]
     },
     "execution_count": 30,
     "metadata": {},
     "output_type": "execute_result"
    }
   ],
   "source": [
    "# testing the Adam model \n",
    "X_test = generate_a_disk()\n",
    "X_test = X_test.reshape(1, X_test.shape[0])\n",
    "Adam_model.predict(X_test)"
   ]
  },
  {
   "cell_type": "markdown",
   "metadata": {},
   "source": [
    "# Visualization of the solution"
   ]
  },
  {
   "cell_type": "raw",
   "metadata": {},
   "source": [
    "Visualization of SGD model"
   ]
  },
  {
   "cell_type": "code",
   "execution_count": 31,
   "metadata": {},
   "outputs": [
    {
     "data": {
      "text/plain": [
       "<matplotlib.image.AxesImage at 0x1f07ac79e80>"
      ]
     },
     "execution_count": 31,
     "metadata": {},
     "output_type": "execute_result"
    },
    {
     "data": {
      "image/png": "[encoded data removed]",
      "text/plain": [
       "<Figure size 1440x1440 with 3 Axes>"
      ]
     },
     "metadata": {
      "needs_background": "light"
     },
     "output_type": "display_data"
    }
   ],
   "source": [
    "Column1=SGD_model.get_weights()[0][:,0]\n",
    "Column2=SGD_model.get_weights()[0][:,1]\n",
    "Column3=SGD_model.get_weights()[0][:,2]\n",
    "fig,(ax0,ax1,ax2)=plt.subplots(ncols=3,figsize=(20,20))\n",
    "ax0.imshow(Column1.reshape(72,72),cmap='gray')\n",
    "ax1.imshow(Column2.reshape(72,72),cmap='gray')\n",
    "ax2.imshow(Column3.reshape(72,72),cmap='gray')"
   ]
  },
  {
   "cell_type": "markdown",
   "metadata": {},
   "source": [
    "Visualization of Adam model"
   ]
  },
  {
   "cell_type": "code",
   "execution_count": 32,
   "metadata": {},
   "outputs": [
    {
     "data": {
      "text/plain": [
       "<matplotlib.image.AxesImage at 0x1f07af958d0>"
      ]
     },
     "execution_count": 32,
     "metadata": {},
     "output_type": "execute_result"
    },
    {
     "data": {
      "image/png": "[encoded data removed]",
      "text/plain": [
       "<Figure size 1440x1440 with 3 Axes>"
      ]
     },
     "metadata": {
      "needs_background": "light"
     },
     "output_type": "display_data"
    }
   ],
   "source": [
    "Column1=Adam_model.get_weights()[0][:,0]\n",
    "Column2=Adam_model.get_weights()[0][:,1]\n",
    "Column3=Adam_model.get_weights()[0][:,2]\n",
    "fig,(ax0,ax1,ax2)=plt.subplots(ncols=3,figsize=(20,20))\n",
    "ax0.imshow(Column1.reshape(72,72),cmap='gray')\n",
    "ax1.imshow(Column2.reshape(72,72),cmap='gray')\n",
    "ax2.imshow(Column3.reshape(72,72),cmap='gray')"
   ]
  },
  {
   "cell_type": "raw",
   "metadata": {},
   "source": [
    "The shapes (rectangle, disk and triangle) are more distinguished when using the Adam optimizer. It is coherent with the fact that the accuracy is higher when we used the Adam Optimizer than when we used the SGD optimizer "
   ]
  },
  {
   "cell_type": "markdown",
   "metadata": {},
   "source": [
    "# A More Dificult Classification Problem"
   ]
  },
  {
   "cell_type": "code",
   "execution_count": 33,
   "metadata": {},
   "outputs": [
    {
     "name": "stdout",
     "output_type": "stream",
     "text": [
      "Creating data:\n",
      "0\n",
      "10\n",
      "20\n",
      "30\n",
      "40\n",
      "50\n",
      "60\n",
      "70\n",
      "80\n",
      "90\n",
      "100\n",
      "110\n",
      "120\n",
      "130\n",
      "140\n",
      "150\n",
      "160\n",
      "170\n",
      "180\n",
      "190\n",
      "200\n",
      "210\n",
      "220\n",
      "230\n",
      "240\n",
      "250\n",
      "260\n",
      "270\n",
      "280\n",
      "290\n"
     ]
    }
   ],
   "source": [
    "#Generate dataset\n",
    "[X_train_2, Y_train_2] = generate_dataset_classification(300, 20,True)\n",
    "#convert Y_train to be compatible with the model\n",
    "Y_train_2=np_utils.to_categorical(Y_train_2)"
   ]
  },
  {
   "cell_type": "code",
   "execution_count": 34,
   "metadata": {},
   "outputs": [
    {
     "name": "stdout",
     "output_type": "stream",
     "text": [
      "Epoch 1/30\n",
      "300/300 [==============================] - 2s 7ms/step - loss: 0.3138 - acc: 0.3400\n",
      "Epoch 2/30\n",
      "300/300 [==============================] - 0s 312us/step - loss: 0.3324 - acc: 0.3500\n",
      "Epoch 3/30\n",
      "300/300 [==============================] - 0s 260us/step - loss: 0.3328 - acc: 0.4067\n",
      "Epoch 4/30\n",
      "300/300 [==============================] - 0s 260us/step - loss: 0.3340 - acc: 0.3433\n",
      "Epoch 5/30\n",
      "300/300 [==============================] - 0s 260us/step - loss: 0.3506 - acc: 0.3433\n",
      "Epoch 6/30\n",
      "300/300 [==============================] - 0s 260us/step - loss: 0.3114 - acc: 0.3900\n",
      "Epoch 7/30\n",
      "300/300 [==============================] - 0s 208us/step - loss: 0.2675 - acc: 0.4167\n",
      "Epoch 8/30\n",
      "300/300 [==============================] - 0s 260us/step - loss: 0.2421 - acc: 0.4733\n",
      "Epoch 9/30\n",
      "300/300 [==============================] - 0s 208us/step - loss: 0.2362 - acc: 0.5167\n",
      "Epoch 10/30\n",
      "300/300 [==============================] - 0s 208us/step - loss: 0.2397 - acc: 0.5167\n",
      "Epoch 11/30\n",
      "300/300 [==============================] - 0s 260us/step - loss: 0.2280 - acc: 0.5200\n",
      "Epoch 12/30\n",
      "300/300 [==============================] - 0s 208us/step - loss: 0.2211 - acc: 0.5500\n",
      "Epoch 13/30\n",
      "300/300 [==============================] - 0s 208us/step - loss: 0.2139 - acc: 0.5367\n",
      "Epoch 14/30\n",
      "300/300 [==============================] - 0s 260us/step - loss: 0.2115 - acc: 0.5667\n",
      "Epoch 15/30\n",
      "300/300 [==============================] - 0s 312us/step - loss: 0.2124 - acc: 0.5633\n",
      "Epoch 16/30\n",
      "300/300 [==============================] - 0s 260us/step - loss: 0.2182 - acc: 0.5567\n",
      "Epoch 17/30\n",
      "300/300 [==============================] - 0s 312us/step - loss: 0.2385 - acc: 0.5267\n",
      "Epoch 18/30\n",
      "300/300 [==============================] - 0s 208us/step - loss: 0.2030 - acc: 0.5667\n",
      "Epoch 19/30\n",
      "300/300 [==============================] - 0s 312us/step - loss: 0.2075 - acc: 0.5667\n",
      "Epoch 20/30\n",
      "300/300 [==============================] - 0s 208us/step - loss: 0.2059 - acc: 0.5800\n",
      "Epoch 21/30\n",
      "300/300 [==============================] - 0s 260us/step - loss: 0.1986 - acc: 0.5700\n",
      "Epoch 22/30\n",
      "300/300 [==============================] - 0s 365us/step - loss: 0.2035 - acc: 0.5567\n",
      "Epoch 23/30\n",
      "300/300 [==============================] - 0s 312us/step - loss: 0.1967 - acc: 0.5833\n",
      "Epoch 24/30\n",
      "300/300 [==============================] - 0s 312us/step - loss: 0.2091 - acc: 0.5867\n",
      "Epoch 25/30\n",
      "300/300 [==============================] - 0s 260us/step - loss: 0.2030 - acc: 0.5733\n",
      "Epoch 26/30\n",
      "300/300 [==============================] - 0s 260us/step - loss: 0.1981 - acc: 0.5767\n",
      "Epoch 27/30\n",
      "300/300 [==============================] - 0s 260us/step - loss: 0.1984 - acc: 0.6067\n",
      "Epoch 28/30\n",
      "300/300 [==============================] - 0s 260us/step - loss: 0.1995 - acc: 0.5833\n",
      "Epoch 29/30\n",
      "300/300 [==============================] - 0s 312us/step - loss: 0.2011 - acc: 0.5867\n",
      "Epoch 30/30\n",
      "300/300 [==============================] - 0s 365us/step - loss: 0.2167 - acc: 0.5267\n"
     ]
    },
    {
     "data": {
      "text/plain": [
       "<keras.callbacks.History at 0x1f006626e10>"
      ]
     },
     "execution_count": 34,
     "metadata": {},
     "output_type": "execute_result"
    }
   ],
   "source": [
    "#using Adam optimizer\n",
    "from keras.models import Sequential\n",
    "from keras.layers import Dense, Activation\n",
    "from keras.optimizers import Adam\n",
    "\n",
    "#define the model\n",
    "nb_neurons = 3\n",
    "Adam_model_2 = Sequential([Dense(nb_neurons, input_dim=X_train.shape[1]),Activation('sigmoid')])\n",
    "Adam_model_2.add(Activation(\"tanh\"))\n",
    "adam = Adam(lr=0.001, beta_1=0.9, beta_2=0.999, epsilon=None, decay=0.0, amsgrad=False)\n",
    "Adam_model_2.compile(loss='mean_squared_error',optimizer=adam,metrics=['accuracy'])\n",
    "\n",
    "#retrain the linear classifier\n",
    "Adam_model_2.fit(X_train_2, Y_train_2, epochs=30, batch_size=30)"
   ]
  },
  {
   "cell_type": "code",
   "execution_count": 35,
   "metadata": {},
   "outputs": [
    {
     "name": "stdout",
     "output_type": "stream",
     "text": [
      "Epoch 1/30\n",
      "300/300 [==============================] - 1s 4ms/step - loss: 0.2857 - acc: 0.3567\n",
      "Epoch 2/30\n",
      "300/300 [==============================] - 0s 312us/step - loss: 0.2731 - acc: 0.4000\n",
      "Epoch 3/30\n",
      "300/300 [==============================] - 0s 260us/step - loss: 0.2778 - acc: 0.3900\n",
      "Epoch 4/30\n",
      "300/300 [==============================] - 0s 208us/step - loss: 0.2607 - acc: 0.3867\n",
      "Epoch 5/30\n",
      "300/300 [==============================] - 0s 208us/step - loss: 0.2577 - acc: 0.4033\n",
      "Epoch 6/30\n",
      "300/300 [==============================] - 0s 208us/step - loss: 0.2609 - acc: 0.4000\n",
      "Epoch 7/30\n",
      "300/300 [==============================] - 0s 208us/step - loss: 0.2498 - acc: 0.3867\n",
      "Epoch 8/30\n",
      "300/300 [==============================] - 0s 208us/step - loss: 0.2466 - acc: 0.4600\n",
      "Epoch 9/30\n",
      "300/300 [==============================] - 0s 208us/step - loss: 0.2367 - acc: 0.4100\n",
      "Epoch 10/30\n",
      "300/300 [==============================] - 0s 208us/step - loss: 0.2323 - acc: 0.4367\n",
      "Epoch 11/30\n",
      "300/300 [==============================] - 0s 208us/step - loss: 0.2376 - acc: 0.4433\n",
      "Epoch 12/30\n",
      "300/300 [==============================] - 0s 208us/step - loss: 0.2256 - acc: 0.4367\n",
      "Epoch 13/30\n",
      "300/300 [==============================] - 0s 260us/step - loss: 0.2213 - acc: 0.4633\n",
      "Epoch 14/30\n",
      "300/300 [==============================] - 0s 313us/step - loss: 0.2202 - acc: 0.4733\n",
      "Epoch 15/30\n",
      "300/300 [==============================] - 0s 260us/step - loss: 0.2256 - acc: 0.4300\n",
      "Epoch 16/30\n",
      "300/300 [==============================] - 0s 365us/step - loss: 0.2176 - acc: 0.4767\n",
      "Epoch 17/30\n",
      "300/300 [==============================] - 0s 260us/step - loss: 0.2054 - acc: 0.4800\n",
      "Epoch 18/30\n",
      "300/300 [==============================] - 0s 312us/step - loss: 0.2016 - acc: 0.4867\n",
      "Epoch 19/30\n",
      "300/300 [==============================] - 0s 312us/step - loss: 0.2046 - acc: 0.4867\n",
      "Epoch 20/30\n",
      "300/300 [==============================] - 0s 365us/step - loss: 0.1994 - acc: 0.5133\n",
      "Epoch 21/30\n",
      "300/300 [==============================] - 0s 260us/step - loss: 0.1912 - acc: 0.5333\n",
      "Epoch 22/30\n",
      "300/300 [==============================] - 0s 312us/step - loss: 0.1909 - acc: 0.5333\n",
      "Epoch 23/30\n",
      "300/300 [==============================] - 0s 260us/step - loss: 0.1816 - acc: 0.5767\n",
      "Epoch 24/30\n",
      "300/300 [==============================] - 0s 260us/step - loss: 0.2072 - acc: 0.4800\n",
      "Epoch 25/30\n",
      "300/300 [==============================] - 0s 208us/step - loss: 0.1894 - acc: 0.5567\n",
      "Epoch 26/30\n",
      "300/300 [==============================] - 0s 260us/step - loss: 0.1917 - acc: 0.5700\n",
      "Epoch 27/30\n",
      "300/300 [==============================] - 0s 260us/step - loss: 0.2054 - acc: 0.5133\n",
      "Epoch 28/30\n",
      "300/300 [==============================] - 0s 312us/step - loss: 0.1795 - acc: 0.5667\n",
      "Epoch 29/30\n",
      "300/300 [==============================] - 0s 312us/step - loss: 0.1782 - acc: 0.6000\n",
      "Epoch 30/30\n",
      "300/300 [==============================] - 0s 260us/step - loss: 0.1859 - acc: 0.5633\n"
     ]
    },
    {
     "data": {
      "text/plain": [
       "<keras.callbacks.History at 0x1f006626908>"
      ]
     },
     "execution_count": 35,
     "metadata": {},
     "output_type": "execute_result"
    }
   ],
   "source": [
    "# using stochastic gradient descent optimizer\n",
    "from keras.models import Sequential\n",
    "from keras.layers import Dense, Activation\n",
    "from keras.optimizers import SGD\n",
    "\n",
    "#define the model\n",
    "nb_neurons = 3\n",
    "SGD_model_2 = Sequential([Dense(nb_neurons, input_dim=X_train.shape[1]),Activation('sigmoid')])\n",
    "sgd = SGD(lr=0.01,decay=1e-6, momentum=0.5,nesterov=True)\n",
    "SGD_model_2.compile(loss='mean_squared_error',optimizer=sgd,metrics=['accuracy'])\n",
    "\n",
    "#retrain the linear classifier\n",
    "SGD_model.fit(X_train_2, Y_train_2, epochs=30, batch_size=30)"
   ]
  },
  {
   "cell_type": "code",
   "execution_count": 36,
   "metadata": {},
   "outputs": [
    {
     "name": "stdout",
     "output_type": "stream",
     "text": [
      "Creating data:\n",
      "0\n",
      "10\n",
      "20\n",
      "30\n",
      "40\n",
      "50\n",
      "60\n",
      "70\n",
      "80\n",
      "90\n",
      "100\n",
      "110\n",
      "120\n",
      "130\n",
      "140\n",
      "150\n",
      "160\n",
      "170\n",
      "180\n",
      "190\n",
      "200\n",
      "210\n",
      "220\n",
      "230\n",
      "240\n",
      "250\n",
      "260\n",
      "270\n",
      "280\n",
      "290\n"
     ]
    }
   ],
   "source": [
    "#Generate a dataset for the test\n",
    "[X_test, Y_test] = generate_test_set_classification()"
   ]
  },
  {
   "cell_type": "code",
   "execution_count": 37,
   "metadata": {},
   "outputs": [
    {
     "name": "stdout",
     "output_type": "stream",
     "text": [
      "300/300 [==============================] - 0s 1ms/step\n"
     ]
    },
    {
     "data": {
      "text/plain": [
       "[0.30472839951515196, 0.34000000009934106]"
      ]
     },
     "execution_count": 37,
     "metadata": {},
     "output_type": "execute_result"
    }
   ],
   "source": [
    "#Testing the linear classifier (SGD model)\n",
    "SGD_model_2.evaluate(X_test, Y_test)"
   ]
  },
  {
   "cell_type": "code",
   "execution_count": 38,
   "metadata": {},
   "outputs": [
    {
     "name": "stdout",
     "output_type": "stream",
     "text": [
      "300/300 [==============================] - 1s 3ms/step\n"
     ]
    },
    {
     "data": {
      "text/plain": [
       "[0.23891099989414216, 0.38333333253860474]"
      ]
     },
     "execution_count": 38,
     "metadata": {},
     "output_type": "execute_result"
    }
   ],
   "source": [
    "#Testing the linear classifier(Adam model)\n",
    "Adam_model_2.evaluate(X_test, Y_test)"
   ]
  },
  {
   "cell_type": "raw",
   "metadata": {},
   "source": [
    "The accuracy's value is 38% when the shapes are allowed to move on the grid. This is a very low accuracy"
   ]
  },
  {
   "cell_type": "markdown",
   "metadata": {},
   "source": [
    "# Convolutional Neural Network"
   ]
  },
  {
   "cell_type": "code",
   "execution_count": 39,
   "metadata": {},
   "outputs": [
    {
     "name": "stdout",
     "output_type": "stream",
     "text": [
      "Creating data:\n",
      "0\n",
      "10\n",
      "20\n",
      "30\n",
      "40\n",
      "50\n",
      "60\n",
      "70\n",
      "80\n",
      "90\n",
      "100\n",
      "110\n",
      "120\n",
      "130\n",
      "140\n",
      "150\n",
      "160\n",
      "170\n",
      "180\n",
      "190\n",
      "200\n",
      "210\n",
      "220\n",
      "230\n",
      "240\n",
      "250\n",
      "260\n",
      "270\n",
      "280\n",
      "290\n",
      "300\n",
      "310\n",
      "320\n",
      "330\n",
      "340\n",
      "350\n",
      "360\n",
      "370\n",
      "380\n",
      "390\n",
      "400\n",
      "410\n",
      "420\n",
      "430\n",
      "440\n",
      "450\n",
      "460\n",
      "470\n",
      "480\n",
      "490\n",
      "500\n",
      "510\n",
      "520\n",
      "530\n",
      "540\n",
      "550\n",
      "560\n",
      "570\n",
      "580\n",
      "590\n",
      "600\n",
      "610\n",
      "620\n",
      "630\n",
      "640\n",
      "650\n",
      "660\n",
      "670\n",
      "680\n",
      "690\n",
      "700\n",
      "710\n",
      "720\n",
      "730\n",
      "740\n",
      "750\n",
      "760\n",
      "770\n",
      "780\n",
      "790\n",
      "800\n",
      "810\n",
      "820\n",
      "830\n",
      "840\n",
      "850\n",
      "860\n",
      "870\n",
      "880\n",
      "890\n",
      "900\n",
      "910\n",
      "920\n",
      "930\n",
      "940\n",
      "950\n",
      "960\n",
      "970\n",
      "980\n",
      "990\n"
     ]
    }
   ],
   "source": [
    "[X_train_CNN, Y_train_CNN] = generate_dataset_classification(1000, 20, True)\n",
    "X_train_CNN = X_train_CNN.reshape(1000,72,72,1)\n",
    "Y_train_CNN = np_utils.to_categorical(Y_train_CNN, 3)"
   ]
  },
  {
   "cell_type": "code",
   "execution_count": 40,
   "metadata": {},
   "outputs": [
    {
     "name": "stdout",
     "output_type": "stream",
     "text": [
      "Train on 900 samples, validate on 100 samples\n",
      "Epoch 1/10\n",
      "900/900 [==============================] - 8s 9ms/step - loss: 1.3540 - acc: 0.3844 - val_loss: 0.9641 - val_acc: 0.4900\n",
      "Epoch 2/10\n",
      "900/900 [==============================] - 5s 6ms/step - loss: 0.8705 - acc: 0.6467 - val_loss: 0.8367 - val_acc: 0.6600\n",
      "Epoch 3/10\n",
      "900/900 [==============================] - 5s 6ms/step - loss: 0.7845 - acc: 0.6722 - val_loss: 1.0107 - val_acc: 0.4800\n",
      "Epoch 4/10\n",
      "900/900 [==============================] - 5s 6ms/step - loss: 0.7391 - acc: 0.6911 - val_loss: 0.7622 - val_acc: 0.7000\n",
      "Epoch 5/10\n",
      "900/900 [==============================] - 5s 6ms/step - loss: 0.6330 - acc: 0.7711 - val_loss: 0.7288 - val_acc: 0.6800\n",
      "Epoch 6/10\n",
      "900/900 [==============================] - 5s 6ms/step - loss: 0.5782 - acc: 0.7978 - val_loss: 0.6762 - val_acc: 0.7100\n",
      "Epoch 7/10\n",
      "900/900 [==============================] - 5s 6ms/step - loss: 0.5346 - acc: 0.8056 - val_loss: 0.7195 - val_acc: 0.7100\n",
      "Epoch 8/10\n",
      "900/900 [==============================] - 5s 6ms/step - loss: 0.4995 - acc: 0.8322 - val_loss: 0.6821 - val_acc: 0.6800\n",
      "Epoch 9/10\n",
      "900/900 [==============================] - 5s 6ms/step - loss: 0.4608 - acc: 0.8600 - val_loss: 0.6347 - val_acc: 0.7600\n",
      "Epoch 10/10\n",
      "900/900 [==============================] - 5s 6ms/step - loss: 0.4213 - acc: 0.8656 - val_loss: 0.6258 - val_acc: 0.7600\n"
     ]
    },
    {
     "data": {
      "text/plain": [
       "<keras.callbacks.History at 0x1f01eb83d68>"
      ]
     },
     "execution_count": 40,
     "metadata": {},
     "output_type": "execute_result"
    }
   ],
   "source": [
    "from keras.layers import Conv2D\n",
    "from keras.layers import MaxPooling2D\n",
    "from keras.layers import Flatten\n",
    "\n",
    "# Train a covolutional neural network with a 16 5x5 filters\n",
    "CNN_model = Sequential([Conv2D(filters=16, kernel_size=(5, 5), padding=\"same\",input_shape=(72, 72, 1))])\n",
    "\n",
    "# Add a MaxPooling \n",
    "CNN_model.add(MaxPooling2D(pool_size=(2,2)))\n",
    "CNN_model.add(Flatten())\n",
    "CNN_model.add(Dense(3, activation ='softmax'))\n",
    "CNN_model.add(Activation('relu'))\n",
    "CNN_model.compile(loss='categorical_crossentropy', optimizer='adam', metrics=['accuracy'])\n",
    "CNN_model.fit(X_train_CNN, Y_train_CNN, epochs=10, batch_size=32, validation_split=0.1)\n"
   ]
  },
  {
   "cell_type": "code",
   "execution_count": 41,
   "metadata": {},
   "outputs": [],
   "source": [
    "#reshaping the X_test to be compatible with the model\n",
    "X_test_CNN = X_test.reshape(300,72,72,1)\n",
    "Y_test_CNN = Y_test"
   ]
  },
  {
   "cell_type": "code",
   "execution_count": 42,
   "metadata": {},
   "outputs": [
    {
     "name": "stdout",
     "output_type": "stream",
     "text": [
      "300/300 [==============================] - 1s 3ms/step\n"
     ]
    },
    {
     "data": {
      "text/plain": [
       "[0.5567932295799255, 0.826666665871938]"
      ]
     },
     "execution_count": 42,
     "metadata": {},
     "output_type": "execute_result"
    }
   ],
   "source": [
    "CNN_model.evaluate(X_test_CNN, Y_test_CNN)"
   ]
  },
  {
   "cell_type": "markdown",
   "metadata": {},
   "source": [
    "With the CNN model, the loss is 0.55 and the accuracy is 83%. So with this classifier, we were able to increase the accuracy from 38% to 83%."
   ]
  },
  {
   "cell_type": "markdown",
   "metadata": {},
   "source": [
    "# A Regression Problem"
   ]
  },
  {
   "cell_type": "code",
   "execution_count": 43,
   "metadata": {},
   "outputs": [
    {
     "name": "stdout",
     "output_type": "stream",
     "text": [
      "Creating data:\n",
      "0\n",
      "10\n",
      "20\n",
      "30\n",
      "40\n",
      "50\n",
      "60\n",
      "70\n",
      "80\n",
      "90\n",
      "100\n",
      "110\n",
      "120\n",
      "130\n",
      "140\n",
      "150\n",
      "160\n",
      "170\n",
      "180\n",
      "190\n",
      "200\n",
      "210\n",
      "220\n",
      "230\n",
      "240\n",
      "250\n",
      "260\n",
      "270\n",
      "280\n",
      "290\n"
     ]
    }
   ],
   "source": [
    "[X_reg, Y_reg] = generate_dataset_regression(300, 20)"
   ]
  },
  {
   "cell_type": "code",
   "execution_count": 46,
   "metadata": {},
   "outputs": [
    {
     "data": {
      "image/png": "[encoded data removed]",
      "text/plain": [
       "<Figure size 360x360 with 1 Axes>"
      ]
     },
     "metadata": {
      "needs_background": "light"
     },
     "output_type": "display_data"
    }
   ],
   "source": [
    "visualize_prediction(X_reg[0], Y_reg[0])"
   ]
  },
  {
   "cell_type": "code",
   "execution_count": 105,
   "metadata": {},
   "outputs": [],
   "source": [
    "#reshaping Y_reg to contain the location of the vertices in this format : [[x1,y1],[x2,y2],[x3,y3]]. The result is stored in XY_reg\n",
    "XY_reg = Y_reg.reshape(300,3,2)"
   ]
  },
  {
   "cell_type": "code",
   "execution_count": 98,
   "metadata": {},
   "outputs": [
    {
     "ename": "ValueError",
     "evalue": "Error when checking target: expected activation_42 to have 2 dimensions, but got array with shape (300, 3, 2)",
     "output_type": "error",
     "traceback": [
      "\u001b[1;31m---------------------------------------------------------------------------\u001b[0m",
      "\u001b[1;31mValueError\u001b[0m                                Traceback (most recent call last)",
      "\u001b[1;32m<ipython-input-98-c804f6ad42b6>\u001b[0m in \u001b[0;36m<module>\u001b[1;34m\u001b[0m\n\u001b[0;32m     13\u001b[0m \u001b[0mCNN_model_vert\u001b[0m\u001b[1;33m.\u001b[0m\u001b[0madd\u001b[0m\u001b[1;33m(\u001b[0m\u001b[0mActivation\u001b[0m\u001b[1;33m(\u001b[0m\u001b[1;34m'relu'\u001b[0m\u001b[1;33m)\u001b[0m\u001b[1;33m)\u001b[0m\u001b[1;33m\u001b[0m\u001b[1;33m\u001b[0m\u001b[0m\n\u001b[0;32m     14\u001b[0m \u001b[0mCNN_model_vert\u001b[0m\u001b[1;33m.\u001b[0m\u001b[0mcompile\u001b[0m\u001b[1;33m(\u001b[0m\u001b[0mloss\u001b[0m\u001b[1;33m=\u001b[0m\u001b[1;34m'categorical_crossentropy'\u001b[0m\u001b[1;33m,\u001b[0m \u001b[0moptimizer\u001b[0m\u001b[1;33m=\u001b[0m\u001b[1;34m'adam'\u001b[0m\u001b[1;33m,\u001b[0m \u001b[0mmetrics\u001b[0m\u001b[1;33m=\u001b[0m\u001b[1;33m[\u001b[0m\u001b[1;34m'accuracy'\u001b[0m\u001b[1;33m]\u001b[0m\u001b[1;33m)\u001b[0m\u001b[1;33m\u001b[0m\u001b[1;33m\u001b[0m\u001b[0m\n\u001b[1;32m---> 15\u001b[1;33m \u001b[0mCNN_model_vert\u001b[0m\u001b[1;33m.\u001b[0m\u001b[0mfit\u001b[0m\u001b[1;33m(\u001b[0m\u001b[0mX_reg\u001b[0m\u001b[1;33m,\u001b[0m \u001b[0mXY_reg\u001b[0m\u001b[1;33m,\u001b[0m \u001b[0mepochs\u001b[0m\u001b[1;33m=\u001b[0m\u001b[1;36m10\u001b[0m\u001b[1;33m,\u001b[0m \u001b[0mbatch_size\u001b[0m\u001b[1;33m=\u001b[0m\u001b[1;36m32\u001b[0m\u001b[1;33m,\u001b[0m \u001b[0mvalidation_split\u001b[0m\u001b[1;33m=\u001b[0m\u001b[1;36m0.1\u001b[0m\u001b[1;33m)\u001b[0m\u001b[1;33m\u001b[0m\u001b[1;33m\u001b[0m\u001b[0m\n\u001b[0m",
      "\u001b[1;32m~\\Anaconda3\\lib\\site-packages\\keras\\engine\\training.py\u001b[0m in \u001b[0;36mfit\u001b[1;34m(self, x, y, batch_size, epochs, verbose, callbacks, validation_split, validation_data, shuffle, class_weight, sample_weight, initial_epoch, steps_per_epoch, validation_steps, **kwargs)\u001b[0m\n\u001b[0;32m    950\u001b[0m             \u001b[0msample_weight\u001b[0m\u001b[1;33m=\u001b[0m\u001b[0msample_weight\u001b[0m\u001b[1;33m,\u001b[0m\u001b[1;33m\u001b[0m\u001b[1;33m\u001b[0m\u001b[0m\n\u001b[0;32m    951\u001b[0m             \u001b[0mclass_weight\u001b[0m\u001b[1;33m=\u001b[0m\u001b[0mclass_weight\u001b[0m\u001b[1;33m,\u001b[0m\u001b[1;33m\u001b[0m\u001b[1;33m\u001b[0m\u001b[0m\n\u001b[1;32m--> 952\u001b[1;33m             batch_size=batch_size)\n\u001b[0m\u001b[0;32m    953\u001b[0m         \u001b[1;31m# Prepare validation data.\u001b[0m\u001b[1;33m\u001b[0m\u001b[1;33m\u001b[0m\u001b[1;33m\u001b[0m\u001b[0m\n\u001b[0;32m    954\u001b[0m         \u001b[0mdo_validation\u001b[0m \u001b[1;33m=\u001b[0m \u001b[1;32mFalse\u001b[0m\u001b[1;33m\u001b[0m\u001b[1;33m\u001b[0m\u001b[0m\n",
      "\u001b[1;32m~\\Anaconda3\\lib\\site-packages\\keras\\engine\\training.py\u001b[0m in \u001b[0;36m_standardize_user_data\u001b[1;34m(self, x, y, sample_weight, class_weight, check_array_lengths, batch_size)\u001b[0m\n\u001b[0;32m    787\u001b[0m                 \u001b[0mfeed_output_shapes\u001b[0m\u001b[1;33m,\u001b[0m\u001b[1;33m\u001b[0m\u001b[1;33m\u001b[0m\u001b[0m\n\u001b[0;32m    788\u001b[0m                 \u001b[0mcheck_batch_axis\u001b[0m\u001b[1;33m=\u001b[0m\u001b[1;32mFalse\u001b[0m\u001b[1;33m,\u001b[0m  \u001b[1;31m# Don't enforce the batch size.\u001b[0m\u001b[1;33m\u001b[0m\u001b[1;33m\u001b[0m\u001b[0m\n\u001b[1;32m--> 789\u001b[1;33m                 exception_prefix='target')\n\u001b[0m\u001b[0;32m    790\u001b[0m \u001b[1;33m\u001b[0m\u001b[0m\n\u001b[0;32m    791\u001b[0m             \u001b[1;31m# Generate sample-wise weight values given the `sample_weight` and\u001b[0m\u001b[1;33m\u001b[0m\u001b[1;33m\u001b[0m\u001b[1;33m\u001b[0m\u001b[0m\n",
      "\u001b[1;32m~\\Anaconda3\\lib\\site-packages\\keras\\engine\\training_utils.py\u001b[0m in \u001b[0;36mstandardize_input_data\u001b[1;34m(data, names, shapes, check_batch_axis, exception_prefix)\u001b[0m\n\u001b[0;32m    126\u001b[0m                         \u001b[1;34m': expected '\u001b[0m \u001b[1;33m+\u001b[0m \u001b[0mnames\u001b[0m\u001b[1;33m[\u001b[0m\u001b[0mi\u001b[0m\u001b[1;33m]\u001b[0m \u001b[1;33m+\u001b[0m \u001b[1;34m' to have '\u001b[0m \u001b[1;33m+\u001b[0m\u001b[1;33m\u001b[0m\u001b[1;33m\u001b[0m\u001b[0m\n\u001b[0;32m    127\u001b[0m                         \u001b[0mstr\u001b[0m\u001b[1;33m(\u001b[0m\u001b[0mlen\u001b[0m\u001b[1;33m(\u001b[0m\u001b[0mshape\u001b[0m\u001b[1;33m)\u001b[0m\u001b[1;33m)\u001b[0m \u001b[1;33m+\u001b[0m \u001b[1;34m' dimensions, but got array '\u001b[0m\u001b[1;33m\u001b[0m\u001b[1;33m\u001b[0m\u001b[0m\n\u001b[1;32m--> 128\u001b[1;33m                         'with shape ' + str(data_shape))\n\u001b[0m\u001b[0;32m    129\u001b[0m                 \u001b[1;32mif\u001b[0m \u001b[1;32mnot\u001b[0m \u001b[0mcheck_batch_axis\u001b[0m\u001b[1;33m:\u001b[0m\u001b[1;33m\u001b[0m\u001b[1;33m\u001b[0m\u001b[0m\n\u001b[0;32m    130\u001b[0m                     \u001b[0mdata_shape\u001b[0m \u001b[1;33m=\u001b[0m \u001b[0mdata_shape\u001b[0m\u001b[1;33m[\u001b[0m\u001b[1;36m1\u001b[0m\u001b[1;33m:\u001b[0m\u001b[1;33m]\u001b[0m\u001b[1;33m\u001b[0m\u001b[1;33m\u001b[0m\u001b[0m\n",
      "\u001b[1;31mValueError\u001b[0m: Error when checking target: expected activation_42 to have 2 dimensions, but got array with shape (300, 3, 2)"
     ]
    }
   ],
   "source": [
    "#training a CNN \n",
    "from keras.layers import Conv2D\n",
    "from keras.layers import MaxPooling2D\n",
    "from keras.layers import Flatten\n",
    "\n",
    "# Train a covolutional neural network with a 16 5x5 filters\n",
    "CNN_model_vert = Sequential([Conv2D(filters=16, kernel_size=(5, 5), padding=\"same\",input_shape=(72,72,1))])\n",
    "\n",
    "# Add a MaxPooling \n",
    "CNN_model_vert.add(MaxPooling2D(pool_size=(2,2)))\n",
    "CNN_model_vert.add(Flatten())\n",
    "CNN_model_vert.add(Dense(3, activation ='softmax'))\n",
    "CNN_model_vert.add(Activation('relu'))\n",
    "CNN_model_vert.compile(loss='categorical_crossentropy', optimizer='adam', metrics=['accuracy'])\n",
    "CNN_model_vert.fit(X_reg, XY_reg, epochs=10, batch_size=32, validation_split=0.1)"
   ]
  },
  {
   "cell_type": "code",
   "execution_count": null,
   "metadata": {},
   "outputs": [],
   "source": []
  }
 ],
 "metadata": {
  "kernelspec": {
   "display_name": "Python 3",
   "language": "python",
   "name": "python3"
  },
  "language_info": {
   "codemirror_mode": {
    "name": "ipython",
    "version": 3
   },
   "file_extension": ".py",
   "mimetype": "text/x-python",
   "name": "python",
   "nbconvert_exporter": "python",
   "pygments_lexer": "ipython3",
   "version": "3.6.7"
  }
 },
 "nbformat": 4,
 "nbformat_minor": 2
}
